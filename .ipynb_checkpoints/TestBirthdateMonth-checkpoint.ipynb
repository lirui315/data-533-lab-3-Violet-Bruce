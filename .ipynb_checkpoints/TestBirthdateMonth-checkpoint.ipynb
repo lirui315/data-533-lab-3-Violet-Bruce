{
 "cells": [
  {
   "cell_type": "code",
   "execution_count": 2,
   "metadata": {},
   "outputs": [],
   "source": [
    "import unittest\n",
    "from padaku.birth import birthdate"
   ]
  },
  {
   "cell_type": "code",
   "execution_count": 4,
   "metadata": {},
   "outputs": [
    {
     "name": "stderr",
     "output_type": "stream",
     "text": [
      "test_birthdate (__main__.TestBirthdateMonth) ... "
     ]
    },
    {
     "name": "stdout",
     "output_type": "stream",
     "text": [
      "setupClass\n",
      "Set Up\n",
      "Tear Down\n",
      "teardownClass\n"
     ]
    },
    {
     "name": "stderr",
     "output_type": "stream",
     "text": [
      "ok\n",
      "\n",
      "----------------------------------------------------------------------\n",
      "Ran 1 test in 0.002s\n",
      "\n",
      "OK\n"
     ]
    },
    {
     "data": {
      "text/plain": [
       "<unittest.main.TestProgram at 0x10bc60a20>"
      ]
     },
     "execution_count": 4,
     "metadata": {},
     "output_type": "execute_result"
    }
   ],
   "source": [
    "class TestBirthdateMonth(unittest.TestCase):\n",
    "    @classmethod\n",
    "    def setUpClass(cls):\n",
    "        print('setupClass')\n",
    "        \n",
    "    def setUp(self):\n",
    "        self.p1=birthdate.Month(1996,3,15)\n",
    "        self.p2=birthdate.Month(1990,10,25)\n",
    "        self.p3=birthdate.Month(1994,4,21)\n",
    "        self.p4=birthdate.Month(1995,11,6)\n",
    "        self.p5=birthdate.Month(1991,12,27)\n",
    "        print('Set Up')\n",
    "        \n",
    "    def test_birthdate(self):\n",
    "        self.assertMultiLineEqual(self.p1.constellation(),\"Your constellation is Pisces\")\n",
    "        self.assertMultiLineEqual(self.p2.constellation(),\"Your constellation is Scorpio\")\n",
    "        self.assertMultiLineEqual(self.p3.constellation(),\"Your constellation is Taurus\")\n",
    "        self.assertMultiLineEqual(self.p4.constellation(),\"Your constellation is Scorpio\")\n",
    "        self.assertMultiLineEqual(self.p5.constellation(),\"Your constellation is Capricornus\")  \n",
    "        \n",
    "    def tearDown(self):\n",
    "        print('Tear Down')\n",
    "        \n",
    "    @classmethod    \n",
    "    def tearDownClass(cls):\n",
    "        print('teardownClass')  \n",
    "        \n",
    "unittest.main(argv=[''],verbosity=2,exit=False)"
   ]
  },
  {
   "cell_type": "code",
   "execution_count": null,
   "metadata": {},
   "outputs": [],
   "source": []
  }
 ],
 "metadata": {
  "kernelspec": {
   "display_name": "Python 3",
   "language": "python",
   "name": "python3"
  },
  "language_info": {
   "codemirror_mode": {
    "name": "ipython",
    "version": 3
   },
   "file_extension": ".py",
   "mimetype": "text/x-python",
   "name": "python",
   "nbconvert_exporter": "python",
   "pygments_lexer": "ipython3",
   "version": "3.6.5"
  }
 },
 "nbformat": 4,
 "nbformat_minor": 2
}
