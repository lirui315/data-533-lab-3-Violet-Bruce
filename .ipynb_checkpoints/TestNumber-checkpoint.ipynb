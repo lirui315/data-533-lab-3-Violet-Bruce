{
 "cells": [
  {
   "cell_type": "code",
   "execution_count": 1,
   "metadata": {},
   "outputs": [],
   "source": [
    "import unittest\n",
    "from padaku.birth import number"
   ]
  },
  {
   "cell_type": "code",
   "execution_count": 2,
   "metadata": {},
   "outputs": [
    {
     "name": "stderr",
     "output_type": "stream",
     "text": [
      "test_birthdate (__main__.TestNumber) ... "
     ]
    },
    {
     "name": "stdout",
     "output_type": "stream",
     "text": [
      "setupClass\n",
      "Set Up\n",
      "Tear Down\n",
      "teardownClass\n"
     ]
    },
    {
     "name": "stderr",
     "output_type": "stream",
     "text": [
      "ok\n",
      "\n",
      "----------------------------------------------------------------------\n",
      "Ran 1 test in 0.002s\n",
      "\n",
      "OK\n"
     ]
    },
    {
     "data": {
      "text/plain": [
       "<unittest.main.TestProgram at 0x10f9125f8>"
      ]
     },
     "execution_count": 2,
     "metadata": {},
     "output_type": "execute_result"
    }
   ],
   "source": [
    "class TestNumber(unittest.TestCase):\n",
    "    @classmethod\n",
    "    def setUpClass(cls):\n",
    "        print('setupClass')\n",
    "    \n",
    "    def setUp(self):\n",
    "        print('Set Up')\n",
    "    \n",
    "    def test_birthdate(self):\n",
    "        self.assertMultiLineEqual(number.life_path_number(1996,3,15),\"Your life path number is 7\")\n",
    "        self.assertMultiLineEqual(number.life_path_number(1990,10,25),\"Your life path number is 9\")\n",
    "        self.assertMultiLineEqual(number.life_path_number(1994,4,21),\"Your life path number is 3\")\n",
    "        self.assertMultiLineEqual(number.life_path_number(1995,11,6),\"Your life path number is 5\")\n",
    "        self.assertMultiLineEqual(number.life_path_number(1991,12,27),\"Your life path number is 5\")       \n",
    "\n",
    "    def tearDown(self):\n",
    "        print('Tear Down')\n",
    "    \n",
    "    @classmethod    \n",
    "    def tearDownClass(cls):\n",
    "        print('teardownClass') \n",
    "unittest.main(argv=[''],verbosity=2,exit=False)"
   ]
  },
  {
   "cell_type": "code",
   "execution_count": null,
   "metadata": {},
   "outputs": [],
   "source": []
  }
 ],
 "metadata": {
  "kernelspec": {
   "display_name": "Python 3",
   "language": "python",
   "name": "python3"
  },
  "language_info": {
   "codemirror_mode": {
    "name": "ipython",
    "version": 3
   },
   "file_extension": ".py",
   "mimetype": "text/x-python",
   "name": "python",
   "nbconvert_exporter": "python",
   "pygments_lexer": "ipython3",
   "version": "3.6.5"
  }
 },
 "nbformat": 4,
 "nbformat_minor": 2
}
