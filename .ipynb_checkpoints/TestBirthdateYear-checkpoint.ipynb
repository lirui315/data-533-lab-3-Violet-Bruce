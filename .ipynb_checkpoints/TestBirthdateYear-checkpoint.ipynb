{
 "cells": [
  {
   "cell_type": "code",
   "execution_count": 3,
   "metadata": {},
   "outputs": [],
   "source": [
    "import unittest\n",
    "from padaku.birth import birthdate"
   ]
  },
  {
   "cell_type": "code",
   "execution_count": 4,
   "metadata": {},
   "outputs": [
    {
     "name": "stderr",
     "output_type": "stream",
     "text": [
      "test_birthdate (__main__.TestBirthdateYear) ... "
     ]
    },
    {
     "name": "stdout",
     "output_type": "stream",
     "text": [
      "setupClass\n",
      "Set Up\n",
      "Tear Down\n",
      "teardownClass\n"
     ]
    },
    {
     "name": "stderr",
     "output_type": "stream",
     "text": [
      "ok\n",
      "\n",
      "----------------------------------------------------------------------\n",
      "Ran 1 test in 0.001s\n",
      "\n",
      "OK\n"
     ]
    },
    {
     "data": {
      "text/plain": [
       "<unittest.main.TestProgram at 0x10ab660f0>"
      ]
     },
     "execution_count": 4,
     "metadata": {},
     "output_type": "execute_result"
    }
   ],
   "source": [
    "class TestBirthdateYear(unittest.TestCase):\n",
    "    @classmethod\n",
    "    def setUpClass(cls):\n",
    "        print('setupClass')\n",
    "        \n",
    "    def setUp(self):\n",
    "        self.p1=birthdate.Year(1996,3,15)\n",
    "        self.p2=birthdate.Year(1990,10,25)\n",
    "        self.p3=birthdate.Year(1994,4,21)\n",
    "        self.p4=birthdate.Year(1995,11,6)\n",
    "        self.p5=birthdate.Year(1991,12,27)\n",
    "        print('Set Up')\n",
    "    \n",
    "    def test_birthdate(self):\n",
    "        self.assertTupleEqual(self.p1.chinese_zodiac(),('Year is 1996', 'Chinese Zodiac is Rat'))\n",
    "        self.assertTupleEqual(self.p2.chinese_zodiac(),('Year is 1990', 'Chinese Zodiac is Horse'))\n",
    "        self.assertTupleEqual(self.p3.chinese_zodiac(),('Year is 1994', 'Chinese Zodiac is Dog'))\n",
    "        self.assertTupleEqual(self.p4.chinese_zodiac(),('Year is 1995', 'Chinese Zodiac is Pig'))\n",
    "        self.assertTupleEqual(self.p5.chinese_zodiac(),('Year is 1991', 'Chinese Zodiac is Goat'))       \n",
    "    \n",
    "    def tearDown(self):\n",
    "        print('Tear Down')\n",
    "        \n",
    "    @classmethod    \n",
    "    def tearDownClass(cls):\n",
    "        print('teardownClass') \n",
    "        \n",
    "unittest.main(argv=[''],verbosity=2,exit=False)"
   ]
  },
  {
   "cell_type": "code",
   "execution_count": null,
   "metadata": {},
   "outputs": [],
   "source": []
  }
 ],
 "metadata": {
  "kernelspec": {
   "display_name": "Python 3",
   "language": "python",
   "name": "python3"
  },
  "language_info": {
   "codemirror_mode": {
    "name": "ipython",
    "version": 3
   },
   "file_extension": ".py",
   "mimetype": "text/x-python",
   "name": "python",
   "nbconvert_exporter": "python",
   "pygments_lexer": "ipython3",
   "version": "3.6.5"
  }
 },
 "nbformat": 4,
 "nbformat_minor": 2
}
